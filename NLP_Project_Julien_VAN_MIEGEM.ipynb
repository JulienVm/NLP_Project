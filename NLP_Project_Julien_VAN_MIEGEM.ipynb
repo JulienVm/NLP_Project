{
  "nbformat": 4,
  "nbformat_minor": 0,
  "metadata": {
    "colab": {
      "name": "NLP_Project_Julien_VAN_MIEGEM.ipynb",
      "provenance": [],
      "toc_visible": true,
      "authorship_tag": "ABX9TyNU0BHFlBxdnTme3JifxXY/",
      "include_colab_link": true
    },
    "kernelspec": {
      "name": "python3",
      "display_name": "Python 3"
    }
  },
  "cells": [
    {
      "cell_type": "markdown",
      "metadata": {
        "id": "view-in-github",
        "colab_type": "text"
      },
      "source": [
        "<a href=\"https://colab.research.google.com/github/JulienVm/NLP_Project/blob/main/NLP_Project_Julien_VAN_MIEGEM.ipynb\" target=\"_parent\"><img src=\"https://colab.research.google.com/assets/colab-badge.svg\" alt=\"Open In Colab\"/></a>"
      ]
    },
    {
      "cell_type": "code",
      "metadata": {
        "id": "pndydV3NvCa-"
      },
      "source": [
        ""
      ],
      "execution_count": null,
      "outputs": []
    }
  ]
}